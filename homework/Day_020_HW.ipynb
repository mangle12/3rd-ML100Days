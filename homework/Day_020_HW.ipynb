{
 "cells": [
  {
   "cell_type": "code",
   "execution_count": null,
   "metadata": {},
   "outputs": [],
   "source": [
    "#作業\n",
    "import os\n",
    "import numpy as np\n",
    "import pandas as pd\n",
    "import matplotlib.pyplot as plt\n",
    "import seaborn as sns\n",
    "plt.style.use('ggplot')\n",
    "\n",
    "# 忽略警告訊息\n",
    "import warnings\n",
    "warnings.filterwarnings('ignore')\n",
    "\n",
    "matrix = np.random.random((10, 10)) * 2 - 1\n",
    "plt.imshow(matrix, cmap='hot', interpolation='nearest')\n",
    "plt.figure(figsize=(10,10))\n",
    "plt.show()\n",
    "\n",
    "nrow = 1000\n",
    "ncol = 3\n",
    "matrix = np.random.random((nrow, ncol)) * 2 - 1\n",
    "indice = np.random.choice([0,1,2], size=nrow)\n",
    "plot_data = pd.DataFrame(matrix, indice).reset_index()\n",
    "\n",
    "# 繪製 seborn 進階 Heatmap\n",
    "grid = sns.PairGrid(data = plot_data, size = 3, diag_sharey=False,hue = 'index', vars = [x for x in list(plot_data.columns) if x != 'index'])\n",
    "grid = sns.PairGrid(data = plot_data, size = 3, diag_sharey=False)\n",
    "grid.map_upper(plt.scatter, alpha = 0.2)\n",
    "grid.map_diag(plt.hist)\n",
    "grid.map_lower(sns.kdeplot, cmap = plt.cm.OrRd_r)\n",
    "plt.show()\n",
    "\n",
    "nrow = 1000\n",
    "ncol = 3\n",
    "matrix = [np.random.normal(size = 3) for i in range(1000)]\n",
    "indice = np.random.choice([0,1,2], size=nrow)\n",
    "plot_data = pd.DataFrame(matrix, indice)\n",
    "grid = sns.PairGrid(data = plot_data, size = 3, diag_sharey=False)\n",
    "grid.map_upper(plt.scatter, alpha = 0.2)\n",
    "grid.map_diag(plt.hist)\n",
    "grid.map_lower(sns.kdeplot, cmap = plt.cm.OrRd_r)\n",
    "plt.show()"
   ]
  }
 ],
 "metadata": {
  "kernelspec": {
   "display_name": "Python 3",
   "language": "python",
   "name": "python3"
  },
  "language_info": {
   "codemirror_mode": {
    "name": "ipython",
    "version": 3
   },
   "file_extension": ".py",
   "mimetype": "text/x-python",
   "name": "python",
   "nbconvert_exporter": "python",
   "pygments_lexer": "ipython3",
   "version": "3.7.3"
  }
 },
 "nbformat": 4,
 "nbformat_minor": 2
}
