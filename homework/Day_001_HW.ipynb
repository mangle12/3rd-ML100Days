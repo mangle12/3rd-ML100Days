{
 "cells": [
  {
   "cell_type": "code",
   "execution_count": 1,
   "metadata": {},
   "outputs": [
    {
     "name": "stdout",
     "output_type": "stream",
     "text": [
      "The Mean absolute error is 12.100\n",
      "The Mean Square Error is 236.338\n"
     ]
    }
   ],
   "source": [
    "import numpy as np\n",
    "import matplotlib.pyplot as plt\n",
    "\n",
    "w=3\n",
    "b=0.5\n",
    "\n",
    "x_lin = np.linspace(0,100,101)\n",
    "y=(x_lin + np.random.randn(101)*5)*w+b\n",
    "\n",
    "#plt.plot(x_lin,y,'b.',label = 'data points')\n",
    "#plt.title('Assume we have data poiint')\n",
    "#plt.legend(loc = 2)\n",
    "#plt.show()\n",
    "\n",
    "y_hat = x_lin * w + b\n",
    "#plt.plot(x_lin, y, 'b.', label = 'data')\n",
    "#plt.plot(x_lin, y_hat, 'r-', label = 'prediction')\n",
    "#plt.title(\"Assume we have data points (And the prediction)\")\n",
    "#plt.legend(loc = 2)\n",
    "#plt.show()\n",
    "\n",
    "\n",
    "#y: 實際值\n",
    "#yp: 預測值\n",
    "def mean_absolute_error(y, yp):\n",
    "    mae = sum(abs(y - yp)) / len(y)\n",
    "    return mae\n",
    "\n",
    "MAE = mean_absolute_error(y, y_hat)\n",
    "print(\"The Mean absolute error is %.3f\" % (MAE))\n",
    "\n",
    "#y_true -- 測試集目標真實值\n",
    "#y_pred -- 測試集目標預測值\n",
    "def Mean_Square_Error(y_true, y_pred):\n",
    "    n = len(y_true)\n",
    "    mse = sum(np.square(y_true - y_pred))/n\n",
    "    return mse\n",
    "\n",
    "MSE = Mean_Square_Error(y, y_hat)\n",
    "print(\"The Mean Square Error is %.3f\" % (MSE))"
   ]
  },
  {
   "cell_type": "code",
   "execution_count": null,
   "metadata": {},
   "outputs": [],
   "source": []
  }
 ],
 "metadata": {
  "kernelspec": {
   "display_name": "Python 3",
   "language": "python",
   "name": "python3"
  },
  "language_info": {
   "codemirror_mode": {
    "name": "ipython",
    "version": 3
   },
   "file_extension": ".py",
   "mimetype": "text/x-python",
   "name": "python",
   "nbconvert_exporter": "python",
   "pygments_lexer": "ipython3",
   "version": "3.7.3"
  }
 },
 "nbformat": 4,
 "nbformat_minor": 2
}
