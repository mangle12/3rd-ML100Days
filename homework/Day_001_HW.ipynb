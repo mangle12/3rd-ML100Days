{
 "cells": [
  {
   "cell_type": "code",
   "execution_count": 1,
   "metadata": {},
   "outputs": [
    {
     "name": "stdout",
     "output_type": "stream",
     "text": [
      "The Mean absolute error is 12.100\n",
      "The Mean Square Error is 236.338\n"
     ]
    }
   ],
   "source": [
    "import numpy as np\n",
    "import matplotlib.pyplot as plt\n",
    "\n",
    "w=3\n",
    "b=0.5\n",
    "\n",
    "x_lin = np.linspace(0,100,101)\n",
    "y=(x_lin + np.random.randn(101)*5)*w+b\n",
    "\n",
    "#plt.plot(x_lin,y,'b.',label = 'data points')\n",
    "#plt.title('Assume we have data poiint')\n",
    "#plt.legend(loc = 2)\n",
    "#plt.show()\n",
    "\n",
    "y_hat = x_lin * w + b\n",
    "#plt.plot(x_lin, y, 'b.', label = 'data')\n",
    "#plt.plot(x_lin, y_hat, 'r-', label = 'prediction')\n",
    "#plt.title(\"Assume we have data points (And the prediction)\")\n",
    "#plt.legend(loc = 2)\n",
    "#plt.show()\n",
    "\n",
    "\n",
    "#y: 實際值\n",
    "#yp: 預測值\n",
    "def mean_absolute_error(y, yp):\n",
    "    mae = sum(abs(y - yp)) / len(y)\n",
    "    return mae\n",
    "\n",
    "MAE = mean_absolute_error(y, y_hat)\n",
    "print(\"The Mean absolute error is %.3f\" % (MAE))\n",
    "\n",
    "#y_true -- 測試集目標真實值\n",
    "#y_pred -- 測試集目標預測值\n",
    "def Mean_Square_Error(y_true, y_pred):\n",
    "    n = len(y_true)\n",
    "    mse = sum(np.square(y_true - y_pred))/n\n",
    "    return mse\n",
    "\n",
    "MSE = Mean_Square_Error(y, y_hat)\n",
    "print(\"The Mean Square Error is %.3f\" % (MSE))"
   ]
  },
  {
   "cell_type": "code",
   "execution_count": null,
   "metadata": {},
   "outputs": [],
   "source": [
    "作業二:    \n",
    "我選擇的題目是 Trending YouTube Video Statistics\n",
    "YouTube已經是現代不可或缺的線上影片網站，該網站的每日觀看人數非常多，也因為高流量進而衍生出了興新的職業-Youtuber，\n",
    "這也代表Youtube跟我們的生活息息相關，Youtube的熱門影片非常多，相當適合在機器學習上有非常充足的資源可以利用。\n",
    "以上資料都是YouTube API蒐集而來\n",
    "資料型態可能是數據、熱門影片\n",
    "這組主要想解決的是根據評論和統計信息對YouTube視頻進行分類、訓練像RNN這樣的ML算法來生成自己的YouTube評論\n",
    "並分析哪些因素會影響YouTube視頻的受歡迎程度。\n",
    "​"
   ]
  },
  {
   "cell_type": "code",
   "execution_count": null,
   "metadata": {},
   "outputs": [],
   "source": [
    "作業三:    \n",
    "1.假如旗下一支車隊有一百台車，現階段一台車的一天載客的人數為10人，利用推出共乘或是搭乘次數優惠或是離峰時段降價等等促銷方式來提升業績，\n",
    "目標在下季平均載客量達到30人/台。\n",
    "2.這些資料從每位司機的車內紀錄器和GPS定位系統而來，但每位司機的業績會隨個司機的個性，開車習慣，衛生習慣，車子外觀，車輛大小而有不同。\n",
    "3.資料型態為人數/天，公里數/天，司機性格，不同司機的乘客男女比例、乘客年齡分布，各個時間的乘車比率。\n",
    "4.根據資料分析，那些車子的外觀，司機的性格比較能受到大眾的歡迎，並算出那些時段乘車比率較低，進而做出促銷活動(共乘、折價)，\n",
    "藉此達到預期的目標。\n"
   ]
  }
 ],
 "metadata": {
  "kernelspec": {
   "display_name": "Python 3",
   "language": "python",
   "name": "python3"
  },
  "language_info": {
   "codemirror_mode": {
    "name": "ipython",
    "version": 3
   },
   "file_extension": ".py",
   "mimetype": "text/x-python",
   "name": "python",
   "nbconvert_exporter": "python",
   "pygments_lexer": "ipython3",
   "version": "3.7.3"
  }
 },
 "nbformat": 4,
 "nbformat_minor": 2
}
