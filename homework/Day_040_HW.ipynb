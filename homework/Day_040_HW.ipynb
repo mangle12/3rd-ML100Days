{
 "cells": [
  {
   "cell_type": "code",
   "execution_count": null,
   "metadata": {},
   "outputs": [],
   "source": [
    "#作業\n",
    "import numpy as np\n",
    "import matplotlib.pyplot as plt\n",
    "from sklearn import datasets, linear_model\n",
    "from sklearn.model_selection import train_test_split\n",
    "from sklearn.metrics import mean_squared_error, r2_score\n",
    "\n",
    "breast_cancer = datasets.load_breast_cancer()\n",
    "print(\"Data shape:\", X.shape)\n",
    "\n",
    "# 切分訓練集/測試集\n",
    "x_train, x_test, y_train, y_test = train_test_split(breast_cancer.data, breast_cancer.target, test_size=0.1, random_state=4)\n",
    "# 建立模型\n",
    "logreg = linear_model.LogisticRegression(penalty = 'l2',C = 3)\n",
    "# 訓練模型\n",
    "logreg.fit(x_train, y_train)\n",
    "# 預測測試集\n",
    "y_pred = logreg.predict(x_test)\n",
    "\n",
    "print(logreg.coef_)\n",
    "print(\"Mean squared error: %.2f\"% mean_squared_error(y_test, y_pred))\n",
    "\n",
    "LASSO = linear_model.Lasso(alpha=0.1)\n",
    "LASSO.fit(x_train, y_train)\n",
    "y_pred = LASSO.predict(x_test)\n",
    "\n",
    "print(LASSO.coef_)\n",
    "print(\"Mean squared error: %.2f\"% mean_squared_error(y_test, y_pred))\n",
    "\n",
    "Ridge = linear_model.Ridge(alpha=0.5)\n",
    "Ridge.fit(x_train, y_train)\n",
    "y_pred = LASSO.predict(x_test)\n",
    "\n",
    "print(Ridge.coef_)\n",
    "print(\"Mean squared error: %.2f\"% mean_squared_error(y_test, y_pred))"
   ]
  }
 ],
 "metadata": {
  "kernelspec": {
   "display_name": "Python 3",
   "language": "python",
   "name": "python3"
  },
  "language_info": {
   "codemirror_mode": {
    "name": "ipython",
    "version": 3
   },
   "file_extension": ".py",
   "mimetype": "text/x-python",
   "name": "python",
   "nbconvert_exporter": "python",
   "pygments_lexer": "ipython3",
   "version": "3.7.3"
  }
 },
 "nbformat": 4,
 "nbformat_minor": 2
}
