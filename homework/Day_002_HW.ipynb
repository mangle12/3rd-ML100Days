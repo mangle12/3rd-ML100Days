{
 "cells": [
  {
   "cell_type": "code",
   "execution_count": null,
   "metadata": {},
   "outputs": [],
   "source": [
    "Q1:請找出一個你認為機器學習可以發光發熱的領域並闡述原因?\n",
    "A1:前陣子因為Google AlphaGo讓世人都了解AI這個領域，未來機器學習可以應用在各個層面，跟人類息息相關的事物都應用在AI的技術上，\n",
    "    現階段我覺得未來機器學習可以發光發熱的是在運動產業上，目前的運動比賽裁判都是人，而人沒辦法做到十全十美的判斷，\n",
    "    不管何種判斷都會有一邊覺得不公平，而且在重要的比賽往往一個判決就影響了最後比賽的勝負，所以我覺得\n",
    "    AI 機器學習將來在運動比賽的使用機率將會大大的提升，舉例棒球來說，透過不斷的學習好球帶的判斷，減少誤判機率，\n",
    "    來解決目前好球帶都是主審主觀的問題，因為主審也是人，沒辦法做到百分之百的固定大小，而有時的誤判也會造成比賽結果的不同，\n",
    "    所以透過機器學習的方式，讓比賽減少主管因素，更具公正性。"
   ]
  }
 ],
 "metadata": {
  "kernelspec": {
   "display_name": "Python 3",
   "language": "python",
   "name": "python3"
  },
  "language_info": {
   "codemirror_mode": {
    "name": "ipython",
    "version": 3
   },
   "file_extension": ".py",
   "mimetype": "text/x-python",
   "name": "python",
   "nbconvert_exporter": "python",
   "pygments_lexer": "ipython3",
   "version": "3.7.3"
  }
 },
 "nbformat": 4,
 "nbformat_minor": 2
}
