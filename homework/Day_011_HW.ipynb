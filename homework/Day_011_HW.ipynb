{
 "cells": [
  {
   "cell_type": "code",
   "execution_count": null,
   "metadata": {},
   "outputs": [],
   "source": [
    "#計算 AMT_ANNUITY 的分位點\n",
    "quantiles = [np.percentile(app_train[~app_train['AMT_ANNUITY'].isnull()]['AMT_ANNUITY'], q = i) for i in range(0, 101)]#percentile 計算百分位數\n",
    "\n",
    "#將 AMT_ANNUITY 的 NaN 用中位數取代\n",
    "#方法一\n",
    "app_train['AMT_ANNUITY'] = app_train['AMT_ANNUITY'].fillna(np.percentile(app_train[~app_train['AMT_ANNUITY'].isnull()]['AMT_ANNUITY'], q = 50))\n",
    "#方法二\n",
    "app_train.loc[app_train['AMT_ANNUITY'].isnull(), 'AMT_ANNUITY'] = np.percentile(app_train[~app_train['AMT_ANNUITY'].isnull()]['AMT_ANNUITY'], q = 50)\n",
    "\n",
    "#將 AMT_ANNUITY 數值轉換到 -1 ~ 1 之間\n",
    "min_x, max_x = min(app_train['AMT_ANNUITY']), max(app_train['AMT_ANNUITY'])\n",
    "def normalize_value(x):\n",
    "    x = 2 * (x - min_x) / (max_x - min_x) - 1\n",
    "    return x\n",
    "\n",
    "app_train['AMT_ANNUITY_NORMALIZED'] = normalize_value(app_train['AMT_ANNUITY'])\n",
    "app_train['AMT_ANNUITY_NORMALIZED'].hist(bins = 50)\n",
    "plt.title(\"Value to -1 ~ 1\")\n",
    "#plt.show()\n",
    "\n",
    "#將 AMT_GOOD_PRICE 的 NaN 用眾數取代 (In[6])\n",
    "\n",
    "#取得眾數:方法一\n",
    "mode_dict = defaultdict(lambda:0)\n",
    "for value in app_train[~app_train['AMT_GOODS_PRICE'].isnull()]['AMT_GOODS_PRICE']:\n",
    "    mode_dict[value] += 1\n",
    "\n",
    "mode_get = sorted(mode_dict.items(), key=lambda kv: kv[1], reverse=True)#sorted 排序,reverse=True:降冪,key只接受function當作參數\n",
    "print(mode_get[0][0])\n",
    "\n",
    "#取得眾數:方法二\n",
    "value_most = app_train['AMT_GOODS_PRICE'].mode()\n",
    "print(value_most)\n",
    "\n",
    "mode_goods_price = list(app_train['AMT_GOODS_PRICE'].value_counts().index)\n",
    "print(mode_goods_price[0])\n",
    "\n",
    "app_train.loc[app_train['AMT_GOODS_PRICE'].isnull(), 'AMT_GOODS_PRICE'] = mode_get[0][0]"
   ]
  }
 ],
 "metadata": {
  "kernelspec": {
   "display_name": "Python 3",
   "language": "python",
   "name": "python3"
  },
  "language_info": {
   "codemirror_mode": {
    "name": "ipython",
    "version": 3
   },
   "file_extension": ".py",
   "mimetype": "text/x-python",
   "name": "python",
   "nbconvert_exporter": "python",
   "pygments_lexer": "ipython3",
   "version": "3.7.3"
  }
 },
 "nbformat": 4,
 "nbformat_minor": 2
}
