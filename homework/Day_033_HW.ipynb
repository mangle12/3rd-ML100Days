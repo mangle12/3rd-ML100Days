{
 "cells": [
  {
   "cell_type": "code",
   "execution_count": null,
   "metadata": {},
   "outputs": [],
   "source": [
    "#作業\n",
    "#1. 模型的泛化能力 (generalization) 是指什麼？\n",
    "\n",
    "#Ans:代表模型的泛用程度，也就是有沒有發生為適應給定資料集而產生的過擬合現象。\n",
    "\n",
    "#2.分類問題與回歸問題分別可用的目標函數有哪些？\n",
    "\n",
    "#Ans:回歸問題可用MAE、MSE等，而分類問題可用Square loss或Hinge loss等。"
   ]
  }
 ],
 "metadata": {
  "kernelspec": {
   "display_name": "Python 3",
   "language": "python",
   "name": "python3"
  },
  "language_info": {
   "codemirror_mode": {
    "name": "ipython",
    "version": 3
   },
   "file_extension": ".py",
   "mimetype": "text/x-python",
   "name": "python",
   "nbconvert_exporter": "python",
   "pygments_lexer": "ipython3",
   "version": "3.7.3"
  }
 },
 "nbformat": 4,
 "nbformat_minor": 2
}
