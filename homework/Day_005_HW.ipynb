{
 "cells": [
  {
   "cell_type": "code",
   "execution_count": 1,
   "metadata": {},
   "outputs": [
    {
     "name": "stdout",
     "output_type": "stream",
     "text": [
      "          Country  Population\n",
      "0          Taiwan    17341747\n",
      "1           Japan    44838086\n",
      "2           Korea    37098215\n",
      "3   United States    32303941\n",
      "4  United Kingdom    49071968\n"
     ]
    }
   ],
   "source": [
    "import pandas as pd\n",
    "import numpy as np\n",
    "\n",
    "#功課一\n",
    "Population = np.random.randint(50000000, size=5)\n",
    "\n",
    "data={'Country':['Taiwan','Japan','Korea','United States','United Kingdom'],\n",
    "             'Population':Population}\n",
    "\n",
    "CountryArray = pd.DataFrame(data)\n",
    "\n",
    "print(CountryArray)"
   ]
  },
  {
   "cell_type": "code",
   "execution_count": null,
   "metadata": {},
   "outputs": [],
   "source": [
    "#功課二\n",
    "#讀取txt\n",
    "TxtData = pd.read_csv('./data/Day004_HW1.txt', header = None, sep='\\t')\n",
    "data = pd.DataFrame(TxtData).iloc[:4, 1]\n",
    "\n",
    "def img2arr_fromURLs(url_list, resize = False):          \n",
    "    img_list=[]\n",
    "    for url in url_list:\n",
    "        response = requests.get(url)\n",
    "        try:\n",
    "            img=Image.open(BytesIO(response.content))\n",
    "        except :\n",
    "            pass\n",
    "        else:\n",
    "            img_list.append(img)\n",
    "    return img_list\n",
    "\n",
    "result = img2arr_fromURLs(data)\n",
    "#print(\"Total images that we got: %i \" % len(result)) \n",
    "\n",
    "#for i in result:\n",
    "#    response = requests.get(data[i])\n",
    "#    img = Image.open(BytesIO(response.content))\n",
    "#    img = Image.open(BytesIO(data[i]))\n",
    "#    plt.imshow(img)\n",
    "#    plt.show()\n",
    "\n",
    "for im_get in result:\n",
    "    plt.imshow(im_get)\n",
    "    plt.show()"
   ]
  },
  {
   "cell_type": "code",
   "execution_count": null,
   "metadata": {},
   "outputs": [],
   "source": []
  }
 ],
 "metadata": {
  "kernelspec": {
   "display_name": "Python 3",
   "language": "python",
   "name": "python3"
  },
  "language_info": {
   "codemirror_mode": {
    "name": "ipython",
    "version": 3
   },
   "file_extension": ".py",
   "mimetype": "text/x-python",
   "name": "python",
   "nbconvert_exporter": "python",
   "pygments_lexer": "ipython3",
   "version": "3.7.3"
  }
 },
 "nbformat": 4,
 "nbformat_minor": 2
}
