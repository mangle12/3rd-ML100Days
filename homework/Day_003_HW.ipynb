{
 "cells": [
  {
   "cell_type": "code",
   "execution_count": null,
   "metadata": {},
   "outputs": [],
   "source": [
    "文章標題:AI套件識別人體動作　穿戴裝置運動健身更智慧\n",
    "\n",
    "1.目標:消費者對於健康生活型態日益重視、以及運動員藉由智慧穿戴裝置分析其運動狀況，提升運動表現。\n",
    "    \n",
    "2.方法:利用裝置內的慣性測量單元(Inertial Measurement Unit, IMU)來達到智慧感知的目的。慣性測量單元能夠偵測裝置的運動狀態\n",
    "    (如加速，旋轉與方位等)，再加入人工智慧-即搭配相對應之演算法，可辨識使用者之動作內容，結合其他感測器，\n",
    "    可以監測與記錄使用者運動狀態，並提供心率、卡路里消耗、睡眠數據等資訊，進而洞悉使用者健康。\n",
    "    應用於專業運動領域如網球、高爾夫、足球、籃球、滑雪等，智慧穿戴可偵測運動員速度、計算距離、呼吸與心跳資訊，透過解析感測資料，\n",
    "    可以提供運動員訓練建議以及在比賽中做出關鍵決定。透過資料收集 、動作模型訓練、模型部署 ，開發者便可整合動作偵測於運動健身應用。\n",
    "    \n",
    "    \n",
    "3.資料來源:市面上多數智慧手錶、智慧手環、智慧衣、智慧眼鏡或智慧鞋，都是利用裝置內的慣性測量單元(Inertial Measurement Unit, IMU)\n",
    "    來達到智慧感知的目的並自動追蹤使用者是否正在進行走路、跑步、戶外單車、橢圓機(Elliptical)、有氧運動等活動，\n",
    "    並可偵測一些動作幅度大的運動，如：網球、籃球與足球等；而加入了防水功能的Flex 2可以自動追蹤使用者在泳池內以四種常見的游泳姿勢\n",
    "    (自由式、仰式、蛙式與蝶式)所持續的時間以及所游的距離。三星的Gear Fit2 Pro則增加了仰臥起坐、深蹲、開合跳等健身動作自動計數功能，\n",
    "    讓使用者可以更輕鬆的進行健身活動。"
   ]
  }
 ],
 "metadata": {
  "kernelspec": {
   "display_name": "Python 3",
   "language": "python",
   "name": "python3"
  },
  "language_info": {
   "codemirror_mode": {
    "name": "ipython",
    "version": 3
   },
   "file_extension": ".py",
   "mimetype": "text/x-python",
   "name": "python",
   "nbconvert_exporter": "python",
   "pygments_lexer": "ipython3",
   "version": "3.7.3"
  }
 },
 "nbformat": 4,
 "nbformat_minor": 2
}
