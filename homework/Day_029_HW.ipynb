{
 "cells": [
  {
   "cell_type": "code",
   "execution_count": null,
   "metadata": {},
   "outputs": [],
   "source": [
    "#作業\n",
    "import pandas as pd\n",
    "import numpy as np\n",
    "import copy\n",
    "from sklearn.preprocessing import LabelEncoder, MinMaxScaler\n",
    "from sklearn.model_selection import cross_val_score\n",
    "from sklearn.linear_model import LogisticRegression\n",
    "import warnings\n",
    "warnings.filterwarnings('ignore')\n",
    "\n",
    "data_path = 'data/'\n",
    "df = pd.read_csv(data_path + 'titanic_train.csv')\n",
    "train_Y = df['Survived']\n",
    "df = df.drop(['PassengerId', 'Survived'] , axis=1)\n",
    "\n",
    "mean_df = df.groupby(['Sex'])['Age'].mean().reset_index()\n",
    "mode_df = df.groupby(['Sex'])['Age'].apply(lambda x: x.mode()[0]).reset_index()\n",
    "median_df = df.groupby(['Sex'])['Age'].median().reset_index()\n",
    "temp = pd.merge(mean_df, mode_df, how='left', on=['Sex'])\n",
    "temp = pd.merge(temp, median_df, how='left', on=['Sex'])\n",
    "temp.columns = ['Sex','Sex_mean_Fare', 'Sex_mode_Fare', 'Sex_median_Fare']\n",
    "\n",
    "df = pd.merge(df, temp, how='left', on=['Sex'])\n",
    "df = df.drop(['Sex'] , axis=1)\n",
    "\n",
    "#只取 int64, float64 兩種數值型欄位, 存於 num_features 中\n",
    "num_features = []\n",
    "for dtype, feature in zip(df.dtypes, df.columns):\n",
    "    if dtype == 'float64' or dtype == 'int64':\n",
    "        num_features.append(feature)\n",
    "print(f'{len(num_features)} Numeric Features : {num_features}\\n')\n",
    "\n",
    "# 削減文字型欄位, 只剩數值型欄位\n",
    "df = df[num_features]\n",
    "df = df.fillna(-1)\n",
    "MMEncoder = MinMaxScaler()\n",
    "\n",
    "from sklearn.preprocessing import MinMaxScaler\n",
    "df_minus = df.drop(['Sex_mean_Fare', 'Sex_mode_Fare', 'Sex_median_Fare'] , axis=1)\n",
    "\n",
    "# 原始特徵 + 邏輯斯迴歸\n",
    "df_temp = MMEncoder.fit_transform(df_minus)\n",
    "estimator = LogisticRegression()\n",
    "print(cross_val_score(estimator, df_temp, train_Y, cv=5).mean())\n",
    "\n",
    "\n",
    "# 新特徵 + 邏輯斯迴歸\n",
    "df_temp = MMEncoder.fit_transform(df)\n",
    "estimator = LogisticRegression()\n",
    "print(cross_val_score(estimator, df_temp, train_Y, cv=5).mean())"
   ]
  }
 ],
 "metadata": {
  "kernelspec": {
   "display_name": "Python 3",
   "language": "python",
   "name": "python3"
  },
  "language_info": {
   "codemirror_mode": {
    "name": "ipython",
    "version": 3
   },
   "file_extension": ".py",
   "mimetype": "text/x-python",
   "name": "python",
   "nbconvert_exporter": "python",
   "pygments_lexer": "ipython3",
   "version": "3.7.3"
  }
 },
 "nbformat": 4,
 "nbformat_minor": 2
}
