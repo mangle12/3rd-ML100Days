{
 "cells": [
  {
   "cell_type": "code",
   "execution_count": null,
   "metadata": {},
   "outputs": [],
   "source": [
    "import os\n",
    "import numpy as np\n",
    "import pandas as pd\n",
    "import matplotlib.pyplot as plt\n",
    "\n",
    "dir_data = './data/'\n",
    "\n",
    "\n",
    "filePath = os.path.join(dir_data, 'application_train.csv')\n",
    "dataSource = pd.read_csv(filePath)\n",
    "##%matplotlib inline--只能在jupyter notebook使用(不用每次都寫plt.show())\n",
    "data = dataSource['AMT_CREDIT']\n",
    "\n",
    "dataMean = data.mean()\n",
    "dataNunique = data.nunique()\n",
    "\n",
    "print(data.head())\n",
    "print(\"平均值: \\n {}\".format(dataMean))\n",
    "print(\"標準差: \\n {}\".format(dataNunique))\n",
    "\n",
    "#data:數據\n",
    "#bins:長條圖數目，默認為10\n",
    "#normed:是否將直方圖向量化，指定密度,也就是每個條狀圖的佔比例比,預設為1。\n",
    "#facecolor:長條型的顏色\n",
    "#edgecolor:長條形邊框的顏色\n",
    "#alpha:透明度\n",
    "plt.hist(data, bins=40, normed=0, facecolor=\"blue\", edgecolor=\"black\", alpha=0.7)\n",
    "# 顯示橫軸標籤\n",
    "plt.xlabel(\"Interval\")\n",
    "# 顯示縱軸標籤\n",
    "plt.ylabel(\"Quantity\")\n",
    "# 顯示圖標題\n",
    "plt.title(\"AMT_CREDIT\")\n",
    "plt.show()"
   ]
  }
 ],
 "metadata": {
  "kernelspec": {
   "display_name": "Python 3",
   "language": "python",
   "name": "python3"
  },
  "language_info": {
   "codemirror_mode": {
    "name": "ipython",
    "version": 3
   },
   "file_extension": ".py",
   "mimetype": "text/x-python",
   "name": "python",
   "nbconvert_exporter": "python",
   "pygments_lexer": "ipython3",
   "version": "3.7.3"
  }
 },
 "nbformat": 4,
 "nbformat_minor": 2
}
