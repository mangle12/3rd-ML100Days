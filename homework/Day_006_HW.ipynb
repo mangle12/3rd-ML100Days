{
 "cells": [
  {
   "cell_type": "code",
   "execution_count": null,
   "metadata": {},
   "outputs": [],
   "source": [
    "\n",
    "import os\n",
    "import numpy as np\n",
    "import pandas as pd\n",
    "\n",
    "# 設定 data_path\n",
    "dir_data = './data/'\n",
    "appTrainPath = os.path.join(dir_data, 'application_train.csv')\n",
    "appTestPath = os.path.join(dir_data, 'application_test.csv')\n",
    "\n",
    "appTrain = pd.read_csv(appTrainPath)\n",
    "appTest = pd.read_csv(appTestPath)\n",
    "#print(appTrain.dtypes.value_counts())\n",
    "\n",
    "dtypes = appTrain.select_dtypes(include=[\"object\"]).apply(pd.Series.nunique, axis = 0)\n",
    "\n",
    "#label encoder\n",
    "from sklearn.preprocessing import LabelEncoder\n",
    "\n",
    "\n",
    "le = LabelEncoder()\n",
    "le_count = 0\n",
    "\n",
    "print('----原始資料---')\n",
    "print(appTrain['WEEKDAY_APPR_PROCESS_START'].head())\n",
    "\n",
    "appTrain['WEEKDAY_APPR_PROCESS_START'] = le.fit_transform(appTrain['WEEKDAY_APPR_PROCESS_START'])\n",
    "print('----label encoder---')\n",
    "print(appTrain['WEEKDAY_APPR_PROCESS_START'].head())\n",
    "\n",
    "appTrain.dropna(inplace=True)\n",
    "#One Hot encoding\n",
    "from sklearn.preprocessing import OneHotEncoder\n",
    "onehotencoder = OneHotEncoder()\n",
    "appTrainOhe = onehotencoder.fit_transform(appTrain).toarray()\n",
    "print('----One Hot encoding---')\n",
    "print(appTrainOhe)\n",
    "\n",
    "# Pandas:One Hot encoding\n",
    "appTrain = pd.get_dummies(appTrain)\n",
    "appTest = pd.get_dummies(appTest)\n",
    "\n",
    "appTrain = pd.read_csv(appTrainPath)\n",
    "subTrain = pd.DataFrame(appTrain['WEEKDAY_APPR_PROCESS_START'])\n",
    "#print(subTrain.shape)#讀取陣列長度\n",
    "print('----Pandas:One Hot encoding---')\n",
    "print(subTrain.head())\n",
    "encode = pd.get_dummies(subTrain.head())\n",
    "print(encode)"
   ]
  }
 ],
 "metadata": {
  "kernelspec": {
   "display_name": "Python 3",
   "language": "python",
   "name": "python3"
  },
  "language_info": {
   "codemirror_mode": {
    "name": "ipython",
    "version": 3
   },
   "file_extension": ".py",
   "mimetype": "text/x-python",
   "name": "python",
   "nbconvert_exporter": "python",
   "pygments_lexer": "ipython3",
   "version": "3.7.3"
  }
 },
 "nbformat": 4,
 "nbformat_minor": 2
}
