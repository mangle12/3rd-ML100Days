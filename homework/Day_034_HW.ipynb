{
 "cells": [
  {
   "cell_type": "code",
   "execution_count": null,
   "metadata": {},
   "outputs": [],
   "source": [
    "#練習\n",
    "from sklearn.model_selection import train_test_split, KFold\n",
    "import numpy as np\n",
    "\n",
    "## 用 numpy 生成隨機資料\n",
    "X = np.arange(50).reshape(10, 5) # 生成從 0 到 50 的 array，並 reshape 成 (10, 5) 的 matrix\n",
    "y = np.zeros(10) # 生成一個全零 arrary\n",
    "y[:5] = 1 # 將一半的值改為 1\n",
    "print(\"Shape of X: \", X.shape)\n",
    "print(\"Shape of y: \", y.shape)\n",
    "\n",
    "print('X: shape: ' + str(X.shape))\n",
    "print(X)\n",
    "\n",
    "print('y: shape: ' + str(y.shape))\n",
    "print(y)\n",
    "\n",
    "## 使用 train_test_split 函數進行切分\n",
    "X_train, X_test, y_train, y_test = train_test_split(X, y, test_size=0.33, random_state=42)\n",
    "\n",
    "print(X_train)\n",
    "print(y_train)\n",
    "\n",
    "## 使用 K-fold Cross-validation 來切分資料\n",
    "kf = KFold(n_splits=5)\n",
    "i = 0\n",
    "for train_index, test_index in kf.split(X):\n",
    "    i +=1\n",
    "    X_train, X_test = X[train_index], X[test_index]\n",
    "    y_train, y_test = y[train_index], y[test_index]\n",
    "    print(\"FOLD {}: \".format(i))\n",
    "    print(\"X_test: \", X_test)\n",
    "    print(\"Y_test: \", y_test)\n",
    "    print(\"-\"*30)\n",
    "\n",
    "## 作業\n",
    "#假設我們資料中類別的數量並不均衡，在評估準確率時可能會有所偏頗，試著切分出 y_test 中，0 類別與 1 類別的數量是一樣的 (亦即 y_test 的類別是均衡的)\n",
    "X = np.arange(1000).reshape(200, 5)\n",
    "y = np.zeros(200)\n",
    "y[:40] = 1\n",
    "\n",
    "from sklearn.model_selection import train_test_split\n",
    "X_train_1, X_test_1, y_train_1, y_test_1 = train_test_split(X[:40], y[:40], test_size = 0.25, random_state=42)\n",
    "X_train_0, X_test_0, y_train_0, y_test_0 = train_test_split(X[40:], y[40:], test_size = 0.0625, random_state=42)\n",
    "\n",
    "X_test = np.concatenate((X_test_0, X_test_1))\n",
    "y_test = np.concatenate((y_test_0, y_test_1))\n",
    "\n",
    "y_test"
   ]
  }
 ],
 "metadata": {
  "kernelspec": {
   "display_name": "Python 3",
   "language": "python",
   "name": "python3"
  },
  "language_info": {
   "codemirror_mode": {
    "name": "ipython",
    "version": 3
   },
   "file_extension": ".py",
   "mimetype": "text/x-python",
   "name": "python",
   "nbconvert_exporter": "python",
   "pygments_lexer": "ipython3",
   "version": "3.7.3"
  }
 },
 "nbformat": 4,
 "nbformat_minor": 2
}
